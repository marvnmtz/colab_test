{
  "nbformat": 4,
  "nbformat_minor": 0,
  "metadata": {
    "colab": {
      "name": "My-first-Notebook.ipynb",
      "provenance": [],
      "mount_file_id": "1ktTOjpDk5tG1b9d1UgUKm_e6ZP6wkAd7",
      "authorship_tag": "ABX9TyPKJQ/YFbheUbFCh8Ggapg0",
      "include_colab_link": true
    },
    "kernelspec": {
      "name": "python3",
      "display_name": "Python 3"
    },
    "language_info": {
      "name": "python"
    }
  },
  "cells": [
    {
      "cell_type": "markdown",
      "metadata": {
        "id": "view-in-github",
        "colab_type": "text"
      },
      "source": [
        "<a href=\"https://colab.research.google.com/github/mrvnmtz/features/blob/main/My_first_Notebook.ipynb\" target=\"_parent\"><img src=\"https://colab.research.google.com/assets/colab-badge.svg\" alt=\"Open In Colab\"/></a>"
      ]
    },
    {
      "cell_type": "markdown",
      "metadata": {
        "id": "LgehETTr9Jn1"
      },
      "source": [
        "# Import libraries"
      ]
    },
    {
      "cell_type": "code",
      "metadata": {
        "id": "jjccy5J2HNgJ"
      },
      "source": [
        "# Clone repository\n",
        "!git clone https://github.com/mrvnmtz/features.git\n"
      ],
      "execution_count": null,
      "outputs": []
    },
    {
      "cell_type": "code",
      "metadata": {
        "id": "BdPHjEMBQI-o"
      },
      "source": [
        "# Connect to drive\n",
        "drive.mount('/content/gdrive')\n",
        "!unzip \"/content/gdrive/MyDrive/ISiM/ISM.zip\" -d \"/content\""
      ],
      "execution_count": null,
      "outputs": []
    },
    {
      "cell_type": "code",
      "metadata": {
        "colab": {
          "base_uri": "https://localhost:8080/"
        },
        "id": "AsqIBBTHP5ZC",
        "outputId": "5d1c2e70-fe65-4af1-ed6e-e977d778ea10"
      },
      "source": [
        "# Execute this every time changes have been made to the respository\n",
        "%cd /content/features\n",
        "!git pull"
      ],
      "execution_count": 26,
      "outputs": [
        {
          "output_type": "stream",
          "name": "stdout",
          "text": [
            "/content/features\n",
            "remote: Enumerating objects: 20, done.\u001b[K\n",
            "remote: Counting objects: 100% (20/20), done.\u001b[K\n",
            "remote: Compressing objects: 100% (13/13), done.\u001b[K\n",
            "remote: Total 17 (delta 11), reused 7 (delta 4), pack-reused 0\u001b[K\n",
            "Unpacking objects: 100% (17/17), done.\n",
            "From https://github.com/mrvnmtz/features\n",
            "   c944cfe..faae51d  main       -> origin/main\n",
            "Updating c944cfe..faae51d\n",
            "Fast-forward\n",
            " My_first_Notebook.ipynb | 121 \u001b[32m+++++++++++++++++++++++++++++++++++++++++++++\u001b[m\u001b[31m---\u001b[m\n",
            " feature_extraction.py   |   2 \u001b[32m+\u001b[m\u001b[31m-\u001b[m\n",
            " 2 files changed, 116 insertions(+), 7 deletions(-)\n"
          ]
        }
      ]
    },
    {
      "cell_type": "code",
      "metadata": {
        "id": "-tnPQ8BCUGhg"
      },
      "source": [
        "# Run the python script\n",
        "!python features/feature_extraction.py"
      ],
      "execution_count": null,
      "outputs": []
    }
  ]
}